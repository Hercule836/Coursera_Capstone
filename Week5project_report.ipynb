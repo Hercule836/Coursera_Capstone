{
 "cells": [
  {
   "cell_type": "markdown",
   "metadata": {},
   "source": [
    "# Recommendation system for food warehouse construction (Project Report)"
   ]
  },
  {
   "cell_type": "markdown",
   "metadata": {},
   "source": [
    "### Part 1 Introduction of the problem\n",
    "---"
   ]
  },
  {
   "cell_type": "markdown",
   "metadata": {},
   "source": [
    "> A local contractor of Etobicoke, Toronto is going to build a food warehouse for ingredients processing and cold storage to provide food delivery service to the nearby restaurants. The neighborhoods where the warehouse is to be built is undetermined yet but the decision will be made based on the density and popularity of the restaurants in each neighborhood in Etobicoke.  The optimal site is the neighborhood with a large number of restaurants will high reputation among customers so that the warehouse can provide timely service for restaurants to maintain their quality service to customers as will as control the overall delivery cost.\n",
    "\n",
    "> This project will build up a recommendation system to generate top 3 neighborhoods in Etobicoke to build the warehouse based on the density and the popularity of the restaurants."
   ]
  },
  {
   "cell_type": "markdown",
   "metadata": {},
   "source": [
    "### Part 2 Data needed\n",
    "---"
   ]
  },
  {
   "cell_type": "markdown",
   "metadata": {},
   "source": [
    "> We need the locational data about Etobicoke and each neighborhood in Etobicoke, i.e., the latitude and longitude of each location. The postal codes of neighborhoods in Etobicoke are also available.\n",
    "\n",
    "> Additionally, we will need data about different venues in different neighborhoods of Etobicoke. We will obtain these data from Foursquare. Specifically, we care about the location of restaurants, i.e., the distances between the restaurants and the center of the neighborhood. We also care about the popularity of the restaurants and any factors that may have an impact on the cost of the delivery service."
   ]
  },
  {
   "cell_type": "markdown",
   "metadata": {},
   "source": [
    "### Part 3 Methodology\n",
    "---"
   ]
  },
  {
   "cell_type": "markdown",
   "metadata": {},
   "source": [
    "> First, a dataset, collected from Wikipedia, is created to demonstrate the locational data of neighborhoods in different boroughs of Toronto. The dataset is further visualized to show the distribution of neighborhoods on the map.\n",
    "\n",
    "> Since we specifically care about the borough Etobicoke, a new dataset that includes only the information about Etobicoke is generated. Similarly, we can visulize the Etobicoke dataset on the map.\n",
    "\n",
    "> Based on the Etobicoke dataset, we scrape the information of nearby venues of each neighborhoods from the Foursquare dataset.\n",
    "\n",
    "> We are able to see a variety of venues assigned to different categories and we are especially care about those related to food, such as restaurants and joints. We will pick them out and generate a new dataset for quantification and clustering.\n",
    "\n",
    "> We will use K-means clustering to cluster the neighborhoods and sort the cluster by checking the mean values of restaurants. A higher score simply imply that the neighborhood has a high density of restaurants and is a more desirable choice for the contracter to build his warehouse."
   ]
  },
  {
   "cell_type": "markdown",
   "metadata": {},
   "source": [
    "### Part 4 Results\n",
    "---"
   ]
  },
  {
   "cell_type": "markdown",
   "metadata": {},
   "source": [
    "> The top 3 neighborhoods recommended to the contractor are:\n",
    "> 1. Mimico NW , The Queensway West , South of Bloor , Kingsway Park South West , Royal York South West\n",
    "2.The Kingsway , Montgomery Road , Old Mill North\n",
    "3.New Toronto , Mimico South , Humber Bay Shores"
   ]
  },
  {
   "cell_type": "markdown",
   "metadata": {},
   "source": [
    "### Part 5 Discussion\n",
    "---"
   ]
  },
  {
   "cell_type": "markdown",
   "metadata": {},
   "source": [
    "> From the Internet, we can learn that Etobicoke is a lesser developed are in Toronto. During the data processing, we can discover a scarcity of restaurants in most areas of Etobicoke while the Top 3 neighborhoods possess approximately 80% of all the restaurants.\n",
    "\n",
    "> Through data analysis, the contractor may want to change his mind because Etobicoke might not be a right place to bring him considerable profit, and the restaurant owners migh not want to receive the delivery service due to its potentially poor value."
   ]
  },
  {
   "cell_type": "markdown",
   "metadata": {},
   "source": [
    "### Part 6 Conclusion\n",
    "---"
   ]
  },
  {
   "cell_type": "markdown",
   "metadata": {},
   "source": [
    "> In this project, we do find a top 3 list of neighborhoods in Etobicoke for the contractor to build the food warehouse. However, he had to think twice to make the decision with regards to the real value that the warehouse may bring to him. "
   ]
  },
  {
   "cell_type": "markdown",
   "metadata": {},
   "source": [
    "# Thank you for your time!"
   ]
  }
 ],
 "metadata": {
  "kernelspec": {
   "display_name": "Python 3",
   "language": "python",
   "name": "python3"
  },
  "language_info": {
   "codemirror_mode": {
    "name": "ipython",
    "version": 3
   },
   "file_extension": ".py",
   "mimetype": "text/x-python",
   "name": "python",
   "nbconvert_exporter": "python",
   "pygments_lexer": "ipython3",
   "version": "3.7.4"
  }
 },
 "nbformat": 4,
 "nbformat_minor": 4
}
