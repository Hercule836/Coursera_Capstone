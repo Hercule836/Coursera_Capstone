{
 "cells": [
  {
   "cell_type": "markdown",
   "metadata": {},
   "source": [
    "# Recommendation system for food warehouse construction"
   ]
  },
  {
   "cell_type": "markdown",
   "metadata": {},
   "source": [
    "### Part 1 Introduction of the problem\n",
    "---"
   ]
  },
  {
   "cell_type": "markdown",
   "metadata": {},
   "source": [
    "> A local contractor of Etobicoke, Toronto is going to build a food warehouse for ingredients processing and cold storage to provide food delivery service to the nearby restaurants. The neighborhoods where the warehouse is to be built is undetermined yet but the decision will be made based on the density and popularity of the restaurants in each neighborhood in Etobicoke.  The optimal site is the neighborhood with a large number of restaurants will high reputation among customers so that the warehouse can provide timely service for restaurants to maintain their quality service to customers as will as control the overall delivery cost.\n",
    "\n",
    "> This project will build up a recommendation system to generate top 5 neighborhoods in Etobicoke to build the warehouse based on the density and the popularity of the restaurants."
   ]
  },
  {
   "cell_type": "markdown",
   "metadata": {},
   "source": [
    "### Part 2 Data needed\n",
    "---"
   ]
  },
  {
   "cell_type": "markdown",
   "metadata": {},
   "source": [
    "> We need the locational data about Etobicoke and each neighborhood in Etobicoke, i.e., the latitude and longitude of each location. The postal codes of neighborhoods in Etobicoke are also available.\n",
    "\n",
    "> Additionally, we will need data about different venues in different neighborhoods of Etobicoke. We will obtain these data from Foursquare. Specifically, we care about the location of restaurants, i.e., the distances between the restaurants and the center of the neighborhood. We also care about the popularity of the restaurants and any factors that may have an impact on the cost of the delivery service."
   ]
  },
  {
   "cell_type": "code",
   "execution_count": null,
   "metadata": {},
   "outputs": [],
   "source": []
  }
 ],
 "metadata": {
  "kernelspec": {
   "display_name": "Python 3",
   "language": "python",
   "name": "python3"
  },
  "language_info": {
   "codemirror_mode": {
    "name": "ipython",
    "version": 3
   },
   "file_extension": ".py",
   "mimetype": "text/x-python",
   "name": "python",
   "nbconvert_exporter": "python",
   "pygments_lexer": "ipython3",
   "version": "3.7.4"
  }
 },
 "nbformat": 4,
 "nbformat_minor": 4
}
